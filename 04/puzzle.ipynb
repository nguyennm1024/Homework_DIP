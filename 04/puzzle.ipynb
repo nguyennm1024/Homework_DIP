{
 "cells": [
  {
   "cell_type": "code",
   "execution_count": 2,
   "metadata": {},
   "outputs": [],
   "source": [
    "import cv2\n",
    "import matplotlib.pyplot as plt\n",
    "import numpy as np\n",
    "import random, math"
   ]
  },
  {
   "cell_type": "code",
   "execution_count": 3,
   "metadata": {},
   "outputs": [],
   "source": [
    "def crop_image(img, edge):\n",
    "    i = 0\n",
    "    j = 0\n",
    "    cropped = []\n",
    "    step_x = img.shape[0]//edge\n",
    "    step_y = img.shape[1]//edge\n",
    "    while i < img.shape[0]:\n",
    "        while j < img.shape[1]:\n",
    "            if j+step_y <= img.shape[1] and i+step_x <= img.shape[0]:\n",
    "                cropped.append(img[i:i+step_x, j:j+step_y])\n",
    "            elif j+step_y > img.shape[1] and i+step_x < img.shape[0]:\n",
    "                cropped.append(img[i:i+step_x, j:])\n",
    "            elif j+step_y <= img.shape[1] and i+step_x > img.shape[0]:\n",
    "                cropped.append(img[i:, j:j+step_y])\n",
    "            else:\n",
    "                cropped.append(img[i:, j:])\n",
    "            j += step_y\n",
    "        j = 0\n",
    "        i+=step_x\n",
    "    return cropped\n",
    "\n",
    "            "
   ]
  },
  {
   "cell_type": "code",
   "execution_count": 4,
   "metadata": {},
   "outputs": [],
   "source": [
    "def embroil(cropped, img_size):\n",
    "    random.shuffle(cropped)\n",
    "    res = np.zeros(img_size)\n",
    "    block_num = int(math.sqrt(len(cropped)))\n",
    "    block_size = cropped[0].shape[0]\n",
    "    i = 0\n",
    "    j = 0\n",
    "    k = 0\n",
    "    while i < block_num:\n",
    "        while j < block_num:\n",
    "            res[i*block_size:(i+1)*block_size, j*block_size:(j+1)*block_size] = cropped[k]\n",
    "            k += 1\n",
    "            j += 1\n",
    "        j = 0\n",
    "        i += 1\n",
    "    return res\n"
   ]
  },
  {
   "cell_type": "code",
   "execution_count": 5,
   "metadata": {},
   "outputs": [],
   "source": [
    "def normalize(arr):\n",
    "    mean = arr.mean()\n",
    "    std = np.std(arr)\n",
    "    return (arr - mean)/std\n",
    "    \n",
    "def matchTemplate(img, template):\n",
    "    filter_size = template.shape[0]\n",
    "    mask = np.zeros((img.shape[0] - filter_size + 1, img.shape[1] - filter_size + 1))\n",
    "    i = 0\n",
    "    j = 0\n",
    "    template = normalize(template)\n",
    "    while i < mask.shape[0]:\n",
    "        while j < mask.shape[1]:\n",
    "            mask[i][j] = np.multiply(normalize(img[i:i+filter_size, j:j+filter_size]), template).sum()\n",
    "            j += 1\n",
    "        j = 0\n",
    "        i += 1\n",
    "    return mask"
   ]
  },
  {
   "cell_type": "code",
   "execution_count": 6,
   "metadata": {},
   "outputs": [],
   "source": [
    "def puzzle_solver(cropped_img, img):\n",
    "    img_puzzle = np.zeros(img.shape)\n",
    "    for k in range(len(cropped_img)):\n",
    "        w, h = cropped_img[k].shape[::-1] \n",
    "        img_copy = img.copy()\n",
    "\n",
    "#         res = cv2.matchTemplate(img_copy,cropped_img[k],cv2.TM_CCOEFF_NORMED) \n",
    "#         This function write by me. Don't use it because it too slow @@\n",
    "        res = matchTemplate(img_copy, cropped_img[k])\n",
    "        max_sim = np.amax(res)\n",
    "        loc = np.where(res >= max_sim)\n",
    "        x = loc[0][0]\n",
    "        y = loc[1][0]\n",
    "\n",
    "        img_puzzle[x:x+h, y:y+w] = cropped_img[k]\n",
    "    return img_puzzle\n"
   ]
  },
  {
   "cell_type": "code",
   "execution_count": 8,
   "metadata": {},
   "outputs": [],
   "source": [
    "img = cv2.imread('Lenna.png', 0)\n",
    "img = cv2.resize(img, dsize=(30, 30), interpolation=cv2.INTER_CUBIC)\n",
    "cropped_img = crop_image(img, 6)"
   ]
  },
  {
   "cell_type": "code",
   "execution_count": 9,
   "metadata": {},
   "outputs": [
    {
     "data": {
      "text/plain": [
       "<matplotlib.image.AxesImage at 0x7f845c837450>"
      ]
     },
     "execution_count": 9,
     "metadata": {},
     "output_type": "execute_result"
    },
    {
     "data": {
      "image/png": "[encoded data removed]",
      "text/plain": [
       "<Figure size 432x288 with 1 Axes>"
      ]
     },
     "metadata": {
      "needs_background": "light"
     },
     "output_type": "display_data"
    }
   ],
   "source": [
    "mixed = embroil(cropped_img, img.shape)\n",
    "plt.imshow(mixed, cmap='gray')"
   ]
  },
  {
   "cell_type": "code",
   "execution_count": 10,
   "metadata": {},
   "outputs": [
    {
     "data": {
      "text/plain": [
       "<matplotlib.image.AxesImage at 0x7f8458242190>"
      ]
     },
     "execution_count": 10,
     "metadata": {},
     "output_type": "execute_result"
    },
    {
     "data": {
      "image/png": "[encoded data removed]",
      "text/plain": [
       "<Figure size 432x288 with 1 Axes>"
      ]
     },
     "metadata": {
      "needs_background": "light"
     },
     "output_type": "display_data"
    }
   ],
   "source": [
    "plt.imshow(puzzle_solver(cropped_img, img), cmap='gray')"
   ]
  },
  {
   "cell_type": "code",
   "execution_count": null,
   "metadata": {},
   "outputs": [],
   "source": []
  }
 ],
 "metadata": {
  "kernelspec": {
   "display_name": "Python 3",
   "language": "python",
   "name": "python3"
  },
  "language_info": {
   "codemirror_mode": {
    "name": "ipython",
    "version": 3
   },
   "file_extension": ".py",
   "mimetype": "text/x-python",
   "name": "python",
   "nbconvert_exporter": "python",
   "pygments_lexer": "ipython3",
   "version": "3.7.4"
  }
 },
 "nbformat": 4,
 "nbformat_minor": 4
}
